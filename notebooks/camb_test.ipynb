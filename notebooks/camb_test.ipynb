{
 "cells": [
  {
   "cell_type": "code",
   "execution_count": 13,
   "metadata": {},
   "outputs": [],
   "source": [
    "import os\n",
    "import numpy as np\n",
    "import camb\n",
    "\n",
    "# specify global settings to CAMB calls\n",
    "camb_kmin_Mpc = 1.0e-4\n",
    "camb_npoints = 1000\n",
    "camb_fluid = 8\n",
    "# no need to go beyond this k_Mpc when fitting linear power only\n",
    "camb_fit_kmax_Mpc = 1.5\n",
    "# set kmax in transfer function beyond what you need (avoid warnings)\n",
    "camb_extra_kmax = 1.001\n",
    "clight_kms = 299792.458\n",
    "\n",
    "\n",
    "def get_cosmology(\n",
    "    H0=67.66,\n",
    "    mnu=0.0,\n",
    "    omch2=0.119,\n",
    "    ombh2=0.0224,\n",
    "    omk=0.0,\n",
    "    As=2.105e-09,\n",
    "    ns=0.9665,\n",
    "    nrun=0.0,\n",
    "    pivot_scalar=0.05,\n",
    "    w=-1,\n",
    "    wa=0,\n",
    "):\n",
    "    \"\"\"Given set of cosmological parameters, return CAMB cosmology object.\n",
    "\n",
    "    Fiducial values for Planck 2018\n",
    "    \"\"\"\n",
    "\n",
    "    pars = camb.CAMBparams()\n",
    "    # set background cosmology\n",
    "    pars.set_cosmology(H0=H0, ombh2=ombh2, omch2=omch2, omk=omk, mnu=mnu)\n",
    "    # set DE\n",
    "    pars.set_dark_energy(w=w, wa=wa)\n",
    "    # set primordial power\n",
    "    pars.InitPower.set_params(\n",
    "        As=As, ns=ns, nrun=nrun, pivot_scalar=pivot_scalar\n",
    "    )\n",
    "\n",
    "    return pars\n"
   ]
  },
  {
   "cell_type": "code",
   "execution_count": 14,
   "metadata": {},
   "outputs": [],
   "source": [
    "cosmo_fid = get_cosmology()\n",
    "camb_results = camb.get_results(cosmo_fid)"
   ]
  },
  {
   "cell_type": "code",
   "execution_count": 15,
   "metadata": {},
   "outputs": [
    {
     "data": {
      "text/plain": [
       "6517.506819071652"
      ]
     },
     "execution_count": 15,
     "metadata": {},
     "output_type": "execute_result"
    }
   ],
   "source": [
    "camb_results.comoving_radial_distance(3)\n"
   ]
  },
  {
   "cell_type": "code",
   "execution_count": 19,
   "metadata": {},
   "outputs": [],
   "source": [
    "from lace.cosmo import camb_cosmo\n",
    "from astropy.cosmology import FlatLambdaCDM\n",
    "P18 = FlatLambdaCDM(H0=cosmo_fid.H0, Om0=cosmo_fid.omegam, Tcmb0=cosmo_fid.TCMB)\n",
    "import astropy.units as u"
   ]
  },
  {
   "cell_type": "code",
   "execution_count": 23,
   "metadata": {},
   "outputs": [],
   "source": [
    "z = .7\n",
    "angle_deg = np.array([0,5,10,20])\n",
    "angle_Mpc_ap = (P18.kpc_comoving_per_arcmin(z)).to(u.Mpc/u.deg)*angle_deg*u.deg\n"
   ]
  },
  {
   "cell_type": "code",
   "execution_count": 24,
   "metadata": {},
   "outputs": [
    {
     "data": {
      "text/latex": [
       "$[0,~225.29887,~450.59775,~901.19549] \\; \\mathrm{Mpc}$"
      ],
      "text/plain": [
       "<Quantity [  0.        , 225.29887358, 450.59774716, 901.19549433] Mpc>"
      ]
     },
     "execution_count": 24,
     "metadata": {},
     "output_type": "execute_result"
    }
   ],
   "source": [
    "angle_Mpc_ap"
   ]
  },
  {
   "cell_type": "code",
   "execution_count": 25,
   "metadata": {},
   "outputs": [
    {
     "data": {
      "text/plain": [
       "array([  0.        , 225.29886525, 450.5977305 , 901.19546099])"
      ]
     },
     "execution_count": 25,
     "metadata": {},
     "output_type": "execute_result"
    }
   ],
   "source": [
    "1/camb_cosmo.ddeg_dMpc_tvs(cosmo_fid, z) * angle_deg"
   ]
  },
  {
   "cell_type": "code",
   "execution_count": null,
   "metadata": {},
   "outputs": [],
   "source": []
  }
 ],
 "metadata": {
  "kernelspec": {
   "display_name": "Python 3",
   "language": "python",
   "name": "python3"
  },
  "language_info": {
   "codemirror_mode": {
    "name": "ipython",
    "version": 3
   },
   "file_extension": ".py",
   "mimetype": "text/x-python",
   "name": "python",
   "nbconvert_exporter": "python",
   "pygments_lexer": "ipython3",
   "version": "3.11.9"
  }
 },
 "nbformat": 4,
 "nbformat_minor": 2
}
